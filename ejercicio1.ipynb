{
 "cells": [
  {
   "cell_type": "code",
   "execution_count": 1,
   "metadata": {},
   "outputs": [],
   "source": [
    "text = \"\"\"NumPy is the fundamental package for scientific computing with Python.\n",
    "\n",
    "Website: https://www.numpy.org\n",
    "Documentation: https://numpy.org/doc\n",
    "Mailing list: https://mail.python.org/mailman/listinfo/numpy-discussion\n",
    "Source code: https://github.com/numpy/numpy\n",
    "Contributing: https://www.numpy.org/devdocs/dev/index.html\n",
    "Bug reports: https://github.com/numpy/numpy/issues\n",
    "Report a security vulnerability: https://tidelift.com/docs/security\n",
    "It provides:\n",
    "\n",
    "a powerful N-dimensional array object\n",
    "sophisticated (broadcasting) functions\n",
    "tools for integrating C/C++ and Fortran code\n",
    "useful linear algebra, Fourier transform, and random number capabilities\n",
    "Testing:\n",
    "\n",
    "NumPy requires pytest and hypothesis. Tests can then be run after installation with:\n",
    "\n",
    "python -c \"import numpy, sys; sys.exit(numpy.test() is False)\"\n",
    "Code of Conduct\n",
    "NumPy is a community-driven open source project developed by a diverse group of contributors. The NumPy leadership has made a strong commitment to creating an open, inclusive, and positive community. Please read the NumPy Code of Conduct for guidance on how to interact with others in a way that makes our community thrive.\n",
    "\n",
    "Call for Contributions\n",
    "The NumPy project welcomes your expertise and enthusiasm!\n",
    "\n",
    "Small improvements or fixes are always appreciated. If you are considering larger contributions to the source code, please contact us through the mailing list first.\n",
    "\n",
    "Writing code isn’t the only way to contribute to NumPy. You can also:\n",
    "\n",
    "review pull requests\n",
    "help us stay on top of new and old issues\n",
    "develop tutorials, presentations, and other educational materials\n",
    "maintain and improve our website\n",
    "develop graphic design for our brand assets and promotional materials\n",
    "translate website content\n",
    "help with outreach and onboard new contributors\n",
    "write grant proposals and help with other fundraising efforts\n",
    "For more information about the ways you can contribute to NumPy, visit our website. If you’re unsure where to start or how your skills fit in, reach out! You can ask on the mailing list or here, on GitHub, by opening a new issue or leaving a comment on a relevant issue that is already open.\n",
    "\n",
    "Our preferred channels of communication are all public, but if you’d like to speak to us in private first, contact our community coordinators at numpy-team@googlegroups.com or on Slack (write numpy-team@googlegroups.com for an invitation).\n",
    "\n",
    "We also have a biweekly community call, details of which are announced on the mailing list. You are very welcome to join.\n",
    "\n",
    "If you are new to contributing to open source, this guide helps explain why, what, and how to successfully get involved.\"\"\""
   ]
  },
  {
   "cell_type": "markdown",
   "id": "26face7a",
   "metadata": {},
   "source": [
    "Cree la variable y le asigne el texto pedido."
   ]
  },
  {
   "cell_type": "code",
   "execution_count": 10,
   "id": "0ce42180",
   "metadata": {},
   "outputs": [
    {
     "name": "stdout",
     "output_type": "stream",
     "text": [
      "NumPy is the fundamental package for scientific computing with Python \n",
      "\n",
      "Website  https www numpy org\n",
      "Documentation  https numpy orgdoc\n",
      "Mailing list  https mail python orgmailmanlistinfonumpy discussion\n",
      "Source code  https github comnumpynumpy\n",
      "Contributing  https www numpy orgdevdocsdevindex html\n",
      "Bug reports  https github comnumpynumpyissues\n",
      "Report a security vulnerability  https tidelift comdocssecurity\n",
      "It provides \n",
      "\n",
      "a powerful N dimensional array object\n",
      "sophisticated (broadcasting) functions\n",
      "tools for integrating CC++ and Fortran code\n",
      "useful linear algebra Fourier transform and random number capabilities\n",
      "Testing \n",
      "\n",
      "NumPy requires pytest and hypothesis  Tests can then be run after installation with \n",
      "\n",
      "python  c import numpy sys; sys exit(numpy test  is False)\n",
      "Code of Conduct\n",
      "NumPy is a community driven open source project developed by a diverse group of contributors  The NumPy leadership has made a strong commitment to creating an open inclusive and positive community  Please read the NumPy Code of Conduct for guidance on how to interact with others in a way that makes our community thrive \n",
      "\n",
      "Call for Contributions\n",
      "The NumPy project welcomes your expertise and enthusiasm!\n",
      "\n",
      "Small improvements or fixes are always appreciated  If you are considering larger contributions to the source code please contact us through the mailing list first \n",
      "\n",
      "Writing code isn’t the only way to contribute to NumPy  You can also \n",
      "\n",
      "review pull requests\n",
      "help us stay on top of new and old issues\n",
      "develop tutorials presentations and other educational materials\n",
      "maintain and improve our website\n",
      "develop graphic design for our brand assets and promotional materials\n",
      "translate website content\n",
      "help with outreach and onboard new contributors\n",
      "write grant proposals and help with other fundraising efforts\n",
      "For more information about the ways you can contribute to NumPy visit our website  If you’re unsure where to start or how your skills fit in reach out! You can ask on the mailing list or here on GitHub by opening a new issue or leaving a comment on a relevant issue that is already open \n",
      "\n",
      "Our preferred channels of communication are all public but if you’d like to speak to us in private first contact our community coordinators at numpy team@googlegroups com or on Slack (write numpy team@googlegroups com for an invitation) \n",
      "\n",
      "We also have a biweekly community call details of which are announced on the mailing list  You are very welcome to join \n",
      "\n",
      "If you are new to contributing to open source this guide helps explain why what and how to successfully get involved \n"
     ]
    }
   ],
   "source": [
    "text_without_sings = text.replace(',','')\n",
    "text_without_sings = text_without_sings.replace('.',' ')\n",
    "text_without_sings = text_without_sings.replace(':',' ')\n",
    "text_without_sings = text_without_sings.replace('/','')\n",
    "text_without_sings = text_without_sings.replace('()',' ')\n",
    "text_without_sings = text_without_sings.replace('\"','')\n",
    "text_without_sings = text_without_sings.replace('-',' ')\n",
    "print(text_without_sings)"
   ]
  },
  {
   "cell_type": "markdown",
   "id": "02a921fe",
   "metadata": {},
   "source": [
    "Limpio el texto"
   ]
  },
  {
   "cell_type": "code",
   "execution_count": 11,
   "id": "3a4cc93c",
   "metadata": {},
   "outputs": [],
   "source": [
    "lines = text_without_sings.split('\\n')\n",
    "vowels = (\"A,E,I,O,U,a,e,i,o,u\")"
   ]
  },
  {
   "cell_type": "markdown",
   "id": "f2b58956",
   "metadata": {},
   "source": [
    "Creo la variable lines que va a dividir el texto en las lineas y las va a guardar en una lista.\n",
    "Tambien creo la variable vowels que me ayudará a identificar las variables"
   ]
  },
  {
   "cell_type": "code",
   "execution_count": 15,
   "id": "7aa3c6b9",
   "metadata": {},
   "outputs": [
    {
     "name": "stdout",
     "output_type": "stream",
     "text": [
      "is\n",
      "a\n",
      "of\n",
      "is\n",
      "improvements\n",
      "us\n",
      "and\n",
      "also\n"
     ]
    }
   ],
   "source": [
    "for line in lines:\n",
    "    words=line.split()\n",
    "    if len(words) > 1 and words[1][0] in vowels:\n",
    "        print(words[1])\n"
   ]
  },
  {
   "cell_type": "markdown",
   "id": "d3109d7d",
   "metadata": {},
   "source": [
    "Lo que hago es crear un for que recorra todas las lineas y que por cada linea la divida en palabras con el \"line.split\". Luego pregunto si la segunda palabra\"words[1]\" empieza con vocal \"words[1][0]\" y si lo hace imprimo su contenido."
   ]
  }
 ],
 "metadata": {
  "kernelspec": {
   "display_name": "venv",
   "language": "python",
   "name": "python3"
  },
  "language_info": {
   "codemirror_mode": {
    "name": "ipython",
    "version": 3
   },
   "file_extension": ".py",
   "mimetype": "text/x-python",
   "name": "python",
   "nbconvert_exporter": "python",
   "pygments_lexer": "ipython3",
   "version": "3.11.7"
  }
 },
 "nbformat": 4,
 "nbformat_minor": 5
}
