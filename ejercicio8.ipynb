{
 "cells": [
  {
   "cell_type": "markdown",
   "metadata": {},
   "source": [
    "8. Escriba un programa que solicite que se ingrese una palabra o frase y permita\n",
    "identificar si la misma es un Heterograma (tenga en cuenta que el contenido del enlace\n",
    "es una traducción del inglés por lo cual las palabras que nombra no son heterogramas\n",
    "en español). Un Heterograma es una palabra o frase que no tiene ninguna letra\n",
    "repetida entre sus caracteres.\n",
    "Tener en cuenta\n",
    "Lo que no se puede repetir en la frase son sólo aquellos caracteres que sean\n",
    "letras.\n",
    "No se distingue entre mayúsculas y minúsculas, es decir si en la frase o palabra\n",
    "tenemos la letra \"T\" y la letra \"t\" la misma NO será un Hererograma.\n",
    "Para simplificar el ejercicio vamos a tomar como que las letras con tilde y sin tilde\n",
    "son distintas. Ya que Python las diferencia:"
   ]
  },
  {
   "cell_type": "code",
   "execution_count": 10,
   "metadata": {},
   "outputs": [],
   "source": [
    "from collections import Counter\n",
    "\n",
    "text = str(input(\"Ingrese un texto\"))\n",
    "text = text.lower()\n",
    "phrase_clean = text.replace(',','')\n",
    "phrase_clean = phrase_clean.replace('.',' ')\n",
    "phrase_clean = phrase_clean.replace(':',' ')\n",
    "phrase_clean = phrase_clean.replace('/','')\n",
    "phrase_clean = phrase_clean.replace('(',' ')\n",
    "phrase_clean = phrase_clean.replace(')',' ')\n",
    "phrase_clean = phrase_clean.replace('\"','')\n",
    "text = phrase_clean.replace('-',' ')\n",
    "text = text.replace(' ','')\n",
    "\n",
    "\n"
   ]
  },
  {
   "cell_type": "markdown",
   "metadata": {},
   "source": [
    "Creo la variable texto que recibira el input de str y lo pasa a minuscula para luego limpiarlo y unir todas las palabras."
   ]
  },
  {
   "cell_type": "code",
   "execution_count": 11,
   "metadata": {},
   "outputs": [],
   "source": [
    "contador = Counter()\n",
    "for letter in text:\n",
    "    if letter.isalpha():\n",
    "        contador[letter] += 1"
   ]
  },
  {
   "cell_type": "markdown",
   "metadata": {},
   "source": [
    "Chequeo si son letras, de serlo se suman al contador"
   ]
  },
  {
   "cell_type": "code",
   "execution_count": 12,
   "metadata": {},
   "outputs": [
    {
     "name": "stdout",
     "output_type": "stream",
     "text": [
      "Si es un heterograma\n"
     ]
    }
   ],
   "source": [
    "if contador.most_common(1)[0][1]> 1:\n",
    "    print(\"No es un heterograma\")\n",
    "else:\n",
    "    print(\"Si es un heterograma\")"
   ]
  },
  {
   "cell_type": "markdown",
   "metadata": {},
   "source": [
    "Si el contador tiene como letra mas comun mayor a uno entonces no es un heterograma"
   ]
  }
 ],
 "metadata": {
  "kernelspec": {
   "display_name": "venv",
   "language": "python",
   "name": "python3"
  },
  "language_info": {
   "codemirror_mode": {
    "name": "ipython",
    "version": 3
   },
   "file_extension": ".py",
   "mimetype": "text/x-python",
   "name": "python",
   "nbconvert_exporter": "python",
   "pygments_lexer": "ipython3",
   "version": "3.11.7"
  }
 },
 "nbformat": 4,
 "nbformat_minor": 2
}
