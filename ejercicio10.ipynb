{
 "cells": [
  {
   "cell_type": "markdown",
   "metadata": {},
   "source": [
    "10. Un club de hockey posee las estadísticas de todxs sus jugadorxs de la última\n",
    "temporada jugada del torneo de hockey mixto. Poseen una lista con los nombres, otra\n",
    "con los goles a favor, otra con los goles evitados y la última con las asistencias\n",
    "realizadas. El club está por otorgar los premios de cierre de temporada y necesita:\n",
    "Nota:\n",
    "Código:\n",
    "1. Generar una estructura todas las estadísticas asociadas a cada jugador o\n",
    "jugadora.\n",
    "2. Conocer el nombre y la cantidad de goles del goleador o goleadora.\n",
    "3. Conocer el nombre del jugador o jugadora más influyente, esto se consigue\n",
    "sumando goles a favor, goles evitados y cantidad de asistencias. La particularidad\n",
    "es que los goles a favor, evitados y las asistencias NO valen lo mismo (es un\n",
    "promedio ponderado):\n",
    "valor\n",
    "goles a favor 1.5\n",
    "goles en evitados 1.25\n",
    "asistencias 1\n",
    "4. Conocer el promedio de goles por partido del equipo en general. Dato: Se jugaron\n",
    "25 partidos en la temporada.\n",
    "5. Conocer el promedio de goles por partido del goleador o goleadora. Dato: Se\n",
    "jugaron 25 partidos en la temporada.\n",
    "Las 4 estructuras están ordenadas de forma que los elementos en la misma\n",
    "posición corresponden a un mismo jugador o jugadora.\n",
    "Realizar funciones con cada ítem\n",
    "names = \"\"\" Agustin, Yanina, Andrés, Ariadna, Bautista, CAROLINA,\n",
    "CESAR, David, Diego, Dolores, DYLAN, ELIANA, Emanuel, Fabián, Noelia,\n",
    "Francsica', FEDERICO, Fernanda, GONZALO, Nancy \"\"\"\n",
    "goals = [0, 10, 4, 0, 5, 14, 0, 0, 7, 2, 1, 1, 1, 5, 6, 1, 1, 2, 0,\n",
    "11]\n",
    "goals_avoided = [0, 2, 0, 0, 5, 2, 0, 0, 1, 2, 0, 5, 5, 0, 1, 0, 2,\n",
    "3, 0, 0]\n",
    "assists = [0, 5, 1, 0, 5, 2, 0, 0, 1, 2, 1, 5, 5, 0, 1, 0, 2, 3, 1,\n",
    "0]\n"
   ]
  },
  {
   "cell_type": "code",
   "execution_count": null,
   "metadata": {},
   "outputs": [],
   "source": [
    "def generate_player_stats(names,goals,goals_avoided,assist):\n",
    "    player_stats=[]\n",
    "    for i in range(len(names)):\n",
    "        player={\"name\": names[i],\"goals\": goals[i],\"goals_avoided\": goals_avoided[i], \"assist\": assist[i]}\n",
    "        player_stats.append(player)\n",
    "    return player_stats"
   ]
  },
  {
   "cell_type": "markdown",
   "metadata": {},
   "source": [
    "aca lo que hago es generar una lista de diccionarios que cada lista va a tener el nombre, goles, goles evitados y asistencias"
   ]
  },
  {
   "cell_type": "code",
   "execution_count": null,
   "metadata": {},
   "outputs": [],
   "source": [
    "def find_goleador (players_stats):\n",
    "    goleador=max(players_stats, key=lambda x: x['goals'])\n",
    "    return goleador"
   ]
  },
  {
   "cell_type": "markdown",
   "metadata": {},
   "source": [
    "aca lo que hago es llamar a la funcion max que va a buscar al maximo en un iterable, en este caso player stats, y como segundo parametro la mando un lambda que dice que va a buscar al jugar que haya metido mas goles"
   ]
  },
  {
   "cell_type": "code",
   "execution_count": null,
   "metadata": {},
   "outputs": [],
   "source": [
    "def most_influential(players_stats):\n",
    "    name_player= max(players_stats, key=lambda x: x[\"goals\"]*1.5 + x[\"goals_avoided\"]*1.25 + x[\"assist\"])\n",
    "    return name_player"
   ]
  },
  {
   "cell_type": "markdown",
   "metadata": {},
   "source": [
    "aca lo que hago es crear la var name_player que lo que hara es hacer la funcion maximo con la variable player stats, y de segundo parametro le paso una lambda que crea un indice x que va a tomar el valor de cada player en player stats, entonces defino que x va a ser igual a x[goals]... etc."
   ]
  },
  {
   "cell_type": "code",
   "execution_count": null,
   "metadata": {},
   "outputs": [],
   "source": [
    "def get_promedio(players_stats):\n",
    "    total_goals= sum(player[\"goals\"] for player in players_stats)\n",
    "    return total_goals/25"
   ]
  },
  {
   "cell_type": "markdown",
   "metadata": {},
   "source": [
    "Hago la variable total de goles que invoca a la funcion sum y suma player[goals] por cada player in players_stats. \n",
    "Intenté con lambda pero no se pudo :("
   ]
  }
 ],
 "metadata": {
  "kernelspec": {
   "display_name": "venv",
   "language": "python",
   "name": "python3"
  },
  "language_info": {
   "name": "python",
   "version": "3.11.7"
  }
 },
 "nbformat": 4,
 "nbformat_minor": 2
}
