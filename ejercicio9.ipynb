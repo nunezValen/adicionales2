{
 "cells": [
  {
   "cell_type": "markdown",
   "metadata": {},
   "source": [
    "Escriba un programa que solicite por teclado una palabra y calcule el valor de la misma\n",
    "dada la siguiente tabla de valores del juego Scrabble:\n",
    "Letra valor\n",
    "A, E, I, O, U, L, N, R, S, T 1\n",
    "D, G 2\n",
    "B, C, M, P 3\n",
    "F, H, V, W, Y 4\n",
    "K 5\n",
    "J, X 8\n",
    "Q, Z 10\n",
    "*Tenga en cuenta qué estructura elige para guardar estos valores en Python\n",
    "Ejemplo 1\n",
    "Ejemplo 2\n",
    "Palabra: \"solo\"\n",
    "valor: 4\n",
    "Palabra: \"tomate\"\n",
    "valor: 8\n"
   ]
  },
  {
   "cell_type": "code",
   "execution_count": null,
   "metadata": {},
   "outputs": [],
   "source": [
    "valores = {\n",
    "    'A': 1, 'E': 1, 'I': 1, 'O': 1, 'U': 1, 'L': 1, 'N': 1, 'R': 1, 'S': 1, 'T': 1,\n",
    "    'D': 2, 'G': 2,\n",
    "    'B': 3, 'C': 3, 'M': 3, 'P': 3,\n",
    "    'F': 4, 'H': 4, 'V': 4, 'W': 4, 'Y': 4,\n",
    "    'K': 5,\n",
    "    'J': 8, 'X': 8,\n",
    "    'Q': 10, 'Z': 10\n",
    "}\n",
    "\n",
    "word = str(input(\"Ingrese una palabra\"))"
   ]
  },
  {
   "cell_type": "markdown",
   "metadata": {},
   "source": [
    "Creo las variables valores la cual es el diccionario con valores y la palabra word"
   ]
  },
  {
   "cell_type": "code",
   "execution_count": null,
   "metadata": {},
   "outputs": [
    {
     "name": "stdout",
     "output_type": "stream",
     "text": [
      "La palabra ingresada vale 6!!!!\n"
     ]
    }
   ],
   "source": [
    "total = 0\n",
    "for letter in word:\n",
    "    letter = letter.upper()\n",
    "    total += valores[letter]\n",
    "\n",
    "print(f\"La palabra ingresada vale {total}!!!!\")"
   ]
  },
  {
   "cell_type": "markdown",
   "metadata": {},
   "source": [
    "Hago un bucle for que recorra la palabra y la convierta en mayuscula asi puedo acceder a los valores"
   ]
  }
 ],
 "metadata": {
  "kernelspec": {
   "display_name": "venv",
   "language": "python",
   "name": "python3"
  },
  "language_info": {
   "codemirror_mode": {
    "name": "ipython",
    "version": 3
   },
   "file_extension": ".py",
   "mimetype": "text/x-python",
   "name": "python",
   "nbconvert_exporter": "python",
   "pygments_lexer": "ipython3",
   "version": "3.11.7"
  }
 },
 "nbformat": 4,
 "nbformat_minor": 2
}
