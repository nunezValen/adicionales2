{
 "cells": [
  {
   "cell_type": "code",
   "execution_count": null,
   "metadata": {},
   "outputs": [],
   "source": [
    "article = \"\"\" título: Experiences in Developing a Distributed Agentbased Modeling Toolkit with Python Version 3\n",
    "resumen: Distributed agent-based modeling (ABM) on high-performance\n",
    "computing resources provides the promise of capturing unprecedented\n",
    "details of large-scale complex systems. However, the specialized\n",
    "knowledge required for developing such ABMs creates barriers to wider\n",
    "adoption and utilization. Here we present our experiences in\n",
    "developing an initial implementation of Repast4Py, a Python-based\n",
    "distributed ABM toolkit. We build on our experiences in developing ABM\n",
    "toolkits, including Repast for High Performance Computing (Repast\n",
    "HPC), to identify the key elements of a useful distributed ABM\n",
    "toolkit. We leverage the Numba, NumPy, and PyTorch packages and the\n",
    "En este ejemplo se debe informar:\n",
    "Python C-API to create a scalable modeling system that can exploit the\n",
    "largest HPC resources and emerging computing architectures. \"\"\"\n",
    "\n",
    "titulo = article.split(\"título: \")[1].split(\"\\n\")[0].strip()\n",
    "print(titulo)\n",
    "resumen = article.split(\"resumen: \")[1].strip()\n",
    "print(resumen)\n",
    "\n",
    "text_without_sings = resumen.replace(',','')\n",
    "text_without_sings = text_without_sings.replace(':',' ')\n",
    "text_without_sings = text_without_sings.replace('/','')\n",
    "text_without_sings = text_without_sings.replace(')',' ')\n",
    "text_without_sings = text_without_sings.replace('(',' ')\n",
    "text_without_sings = text_without_sings.replace('\"','')\n",
    "text_without_sings = text_without_sings.replace('-',' ')"
   ]
  },
  {
   "cell_type": "markdown",
   "metadata": {},
   "source": [
    "Creo la variable titulo y la variable resumen."
   ]
  },
  {
   "cell_type": "code",
   "execution_count": 20,
   "metadata": {},
   "outputs": [
    {
     "name": "stdout",
     "output_type": "stream",
     "text": [
      "titulo: not okay\n",
      "['Distributed agent based modeling  ABM  on high performance\\ncomputing resources provides the promise of capturing unprecedented\\ndetails of large scale complex systems', ' However the specialized\\nknowledge required for developing such ABMs creates barriers to wider\\nadoption and utilization', ' Here we present our experiences in\\ndeveloping an initial implementation of Repast4Py a Python based\\ndistributed ABM toolkit', ' We build on our experiences in developing ABM\\ntoolkits including Repast for High Performance Computing  Repast\\nHPC  to identify the key elements of a useful distributed ABM\\ntoolkit', ' We leverage the Numba NumPy and PyTorch packages and the\\nEn este ejemplo se debe informar \\nPython C API to create a scalable modeling system that can exploit the\\nlargest HPC resources and emerging computing architectures', '']\n",
      "faciles = 1, aceptables = 2, dificiles = 1, muy dificiles = 2\n"
     ]
    }
   ],
   "source": [
    "if len(titulo) > 10:\n",
    "    print(\"titulo: not okay\")\n",
    "\n",
    "oraciones = text_without_sings.split('.')\n",
    "print(oraciones)\n",
    "faciles = 0\n",
    "aceptables = 0\n",
    "dificiles = 0\n",
    "muy_dificiles = 0\n",
    "for oracion in oraciones:\n",
    "    words = oracion.split()\n",
    "    largo = len(words)\n",
    "    if largo > 25:\n",
    "        muy_dificiles += 1\n",
    "    elif largo > 18:\n",
    "        dificiles += 1\n",
    "    elif largo > 13:\n",
    "        aceptables +=1\n",
    "    else:\n",
    "        faciles += 1\n",
    "\n",
    "print(f\"faciles = {faciles}, aceptables = {aceptables}, dificiles = {dificiles}, muy dificiles = {muy_dificiles}\")"
   ]
  },
  {
   "cell_type": "markdown",
   "metadata": {},
   "source": [
    "Pregunto si el titulo tiene mas de 10 palabras, de ser asi imprimo not okay. \n",
    "Luego creo la var oraciones que va a contener una lista con cada oracion separada por un \".\". \n",
    "creo las variables contadoras.\n",
    "creo un bucle for que recorre cada oracion y por cada oracion crea la variable words que divide la oracion en palabras y pregunta cada caso la dificultad de lectura"
   ]
  }
 ],
 "metadata": {
  "kernelspec": {
   "display_name": "venv",
   "language": "python",
   "name": "python3"
  },
  "language_info": {
   "codemirror_mode": {
    "name": "ipython",
    "version": 3
   },
   "file_extension": ".py",
   "mimetype": "text/x-python",
   "name": "python",
   "nbconvert_exporter": "python",
   "pygments_lexer": "ipython3",
   "version": "3.11.7"
  }
 },
 "nbformat": 4,
 "nbformat_minor": 2
}
