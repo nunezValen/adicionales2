{
 "cells": [
  {
   "cell_type": "code",
   "execution_count": 4,
   "metadata": {},
   "outputs": [],
   "source": [
    "jupyter_info = \"\"\" JupyterLab is a web-based interactive development\n",
    "environment for Jupyter notebooks, code, and data. JupyterLab is\n",
    "flexible: configure and arrange the user interface to support a wide\n",
    "range of workflows in data science, scientific computing, and machine\n",
    "learning. JupyterLab is extensible and modular: write plugins that add\n",
    "new components and integrate with existing ones. \"\"\"\n",
    "\n",
    "jupyter_info = jupyter_info.replace(',','')\n",
    "jupyter_info = jupyter_info.replace('.','')\n",
    "jupyter_info = jupyter_info.replace(':','')\n",
    "jupyter_info = jupyter_info.replace('-','')"
   ]
  },
  {
   "cell_type": "markdown",
   "metadata": {},
   "source": [
    "Creo la variable y la limpio"
   ]
  },
  {
   "cell_type": "code",
   "execution_count": 5,
   "metadata": {},
   "outputs": [],
   "source": [
    "while any:\n",
    "    letter = input(\"Ingrese una letra \")\n",
    "    if letter.isalpha():\n",
    "        break\n",
    "    else:\n",
    "        print(\"Ingrese una letra\")\n",
    "        \n",
    "letter = letter.lower()"
   ]
  },
  {
   "cell_type": "markdown",
   "metadata": {},
   "source": [
    "Creo un bucle para que se ingrese una letra por teclado y esa letra la convierto en minuscula."
   ]
  },
  {
   "cell_type": "code",
   "execution_count": 6,
   "metadata": {},
   "outputs": [
    {
     "name": "stdout",
     "output_type": "stream",
     "text": [
      "JupyterLab\n",
      "webbased\n",
      "notebooks\n",
      "JupyterLab\n",
      "flexible\n",
      "JupyterLab\n",
      "extensible\n"
     ]
    }
   ],
   "source": [
    "text = jupyter_info.split()\n",
    "\n",
    "for word in text:\n",
    "    for let in word:\n",
    "        if let == letter:\n",
    "            print(word)\n",
    "            break"
   ]
  },
  {
   "cell_type": "markdown",
   "metadata": {},
   "source": [
    "Creo una lista con cada palabra en el texto y recorro cada letra de las palabras, si esa palabra tiene la letra entonces imprimo y rompo el bucle"
   ]
  }
 ],
 "metadata": {
  "kernelspec": {
   "display_name": "venv",
   "language": "python",
   "name": "python3"
  },
  "language_info": {
   "codemirror_mode": {
    "name": "ipython",
    "version": 3
   },
   "file_extension": ".py",
   "mimetype": "text/x-python",
   "name": "python",
   "nbconvert_exporter": "python",
   "pygments_lexer": "ipython3",
   "version": "3.11.7"
  }
 },
 "nbformat": 4,
 "nbformat_minor": 2
}
