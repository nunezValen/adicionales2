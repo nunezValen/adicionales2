{
 "cells": [
  {
   "cell_type": "markdown",
   "metadata": {},
   "source": [
    "7:Dada una frase contar mayúsculas, minúsculas, caracteres no letras y la cantidad de\n",
    "palabras sin distinguir entre mayúsculas y minúsculas.\n",
    "text = \"\"\" La brecha salarial alcanzó el 27,7%: las mujeres ocupadas\n",
    "debieron trabajar 8 días y 10 horas más que los varones ocupados para\n",
    "ganar lo mismo que ellos en un mes. \"\"\""
   ]
  },
  {
   "cell_type": "code",
   "execution_count": 15,
   "metadata": {},
   "outputs": [],
   "source": [
    "text = \"\"\" La brecha salarial alcanzó el 27,7%: las mujeres ocupadas\n",
    "debieron trabAjar 8 días y 10 horas más que los varones ocupados para\n",
    "ganar lo mismo que ellos en un mes. \"\"\"\n",
    "\n",
    "mayusculas = 0\n",
    "minusculas = 0\n",
    "no_letras = 0\n",
    "words_count = 0\n",
    "words = text.split()"
   ]
  },
  {
   "cell_type": "markdown",
   "metadata": {},
   "source": [
    "Creo las variables contadoras y separo el texto en palabras"
   ]
  },
  {
   "cell_type": "code",
   "execution_count": 16,
   "metadata": {},
   "outputs": [],
   "source": [
    "for word in words:\n",
    "    if word.isalpha():\n",
    "        words_count +=1\n",
    "    for letter in word:\n",
    "        if letter.islower():\n",
    "                minusculas += 1\n",
    "        elif letter.isupper():\n",
    "                mayusculas += 1\n",
    "        else:\n",
    "                no_letras += 1"
   ]
  },
  {
   "cell_type": "markdown",
   "metadata": {},
   "source": [
    "Hago los recorridos de palabras y letras para asi contar si estoy leyendo un numero o una palabra. Asi mismo por palabra cuento cada letra, sea mayus o minus o otro caracter."
   ]
  },
  {
   "cell_type": "code",
   "execution_count": 17,
   "metadata": {},
   "outputs": [
    {
     "name": "stdout",
     "output_type": "stream",
     "text": [
      "Mayúsculas: 2\n",
      "Minúsculas: 122\n",
      "Caracteres no letras: 10\n",
      "Cantidad de palabras: 26\n"
     ]
    }
   ],
   "source": [
    "print(\"Mayúsculas:\", mayusculas)\n",
    "print(\"Minúsculas:\", minusculas)\n",
    "print(\"Caracteres no letras:\", no_letras)\n",
    "print(\"Cantidad de palabras:\", words_count)"
   ]
  },
  {
   "cell_type": "markdown",
   "metadata": {},
   "source": [
    "Imprimo resultados"
   ]
  }
 ],
 "metadata": {
  "kernelspec": {
   "display_name": "venv",
   "language": "python",
   "name": "python3"
  },
  "language_info": {
   "codemirror_mode": {
    "name": "ipython",
    "version": 3
   },
   "file_extension": ".py",
   "mimetype": "text/x-python",
   "name": "python",
   "nbconvert_exporter": "python",
   "pygments_lexer": "ipython3",
   "version": "3.11.7"
  }
 },
 "nbformat": 4,
 "nbformat_minor": 2
}
