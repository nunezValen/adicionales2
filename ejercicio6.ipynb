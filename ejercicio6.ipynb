{
 "cells": [
  {
   "cell_type": "markdown",
   "metadata": {},
   "source": [
    ". Dada una frase y un string ingresados por teclado (en ese orden), genere una lista de\n",
    "palabras, y sobre ella, informe la cantidad de palabras en las que se encuentra el\n",
    "string. No distingir entre mayúsculas y minúsculas"
   ]
  },
  {
   "cell_type": "code",
   "execution_count": 23,
   "metadata": {},
   "outputs": [
    {
     "name": "stdout",
     "output_type": "stream",
     "text": [
      "['tres', 'tristes', 'tigres', 'tragaban', 'trigo', 'en', 'un', 'trigal', 'en', 'tres', 'tristes', 'trastos', 'tragaban', 'trigo', 'tres', 'tristes', 'tigres']\n"
     ]
    }
   ],
   "source": [
    "phrase_input = str(input(\"Ingrese un string\"))\n",
    "phrase_input = phrase_input.lower()\n",
    "searched_word = str(input(\"Ingrese la palabra a buscar\"))\n",
    "searched_word = searched_word.lower()\n",
    "\n",
    "phrase_clean = phrase_input.replace(',','')\n",
    "phrase_clean = phrase_clean.replace('.',' ')\n",
    "phrase_clean = phrase_clean.replace(':',' ')\n",
    "phrase_clean = phrase_clean.replace('/','')\n",
    "phrase_clean = phrase_clean.replace('(',' ')\n",
    "phrase_clean = phrase_clean.replace(')',' ')\n",
    "phrase_clean = phrase_clean.replace('\"','')\n",
    "phrase_clean = phrase_clean.replace('-',' ')\n",
    "phrase_clean = phrase_clean.split()\n",
    "print(phrase_clean)"
   ]
  },
  {
   "cell_type": "markdown",
   "metadata": {},
   "source": [
    "Creo las variables que van a ser ingresadas por teclado y limpio el texto y separo por palabras"
   ]
  },
  {
   "cell_type": "code",
   "execution_count": 24,
   "metadata": {},
   "outputs": [
    {
     "name": "stdout",
     "output_type": "stream",
     "text": [
      "['tres', 'tristes', 'tigres', 'tragaban', 'trigo', 'en', 'un', 'trigal', 'en', 'tres', 'tristes', 'trastos', 'tragaban', 'trigo', 'tres', 'tristes', 'tigres']\n",
      "La palabra ingresada se repitio 3 veces\n"
     ]
    }
   ],
   "source": [
    "count = 0\n",
    "for word in phrase_clean:\n",
    "    if not(word.isalpha()):\n",
    "        phrase_clean.remove(word)\n",
    "    if word == searched_word:\n",
    "        count += 1\n",
    "print(phrase_clean)\n",
    "print(f\"La palabra ingresada se repitio {count} veces\")"
   ]
  },
  {
   "cell_type": "markdown",
   "metadata": {},
   "source": [
    "elimino los caracteres especiales y numeros"
   ]
  }
 ],
 "metadata": {
  "kernelspec": {
   "display_name": "venv",
   "language": "python",
   "name": "python3"
  },
  "language_info": {
   "codemirror_mode": {
    "name": "ipython",
    "version": 3
   },
   "file_extension": ".py",
   "mimetype": "text/x-python",
   "name": "python",
   "nbconvert_exporter": "python",
   "pygments_lexer": "ipython3",
   "version": "3.11.7"
  }
 },
 "nbformat": 4,
 "nbformat_minor": 2
}
